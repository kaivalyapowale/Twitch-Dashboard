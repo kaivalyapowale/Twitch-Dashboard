{
 "cells": [
  {
   "cell_type": "markdown",
   "metadata": {},
   "source": [
    "# Twitch Dashboard - finished code"
   ]
  },
  {
   "cell_type": "markdown",
   "metadata": {},
   "source": [
    "Team Project initially taken on by\n",
    "+ Vardayini Sharma - https://www.linkedin.com/in/vardayini/\n",
    "+ Maddhujeet Chandra - https://www.linkedin.com/in/maddhujeet/\n",
    "+ Kaivalya Powale - https://www.linkedin.com/in/kaivalya-powale/\n",
    "\n",
    "GitHub repository- https://github.com/kaivalyapowale/Twitch-Dashboard/"
   ]
  },
  {
   "cell_type": "markdown",
   "metadata": {},
   "source": [
    "### Importing Libraries"
   ]
  },
  {
   "cell_type": "code",
   "execution_count": null,
   "metadata": {},
   "outputs": [],
   "source": [
    "import json\n",
    "import requests\n",
    "import pandas as pd\n",
    "from pandas.io.json import json_normalize\n",
    "import time\n",
    "import threading"
   ]
  },
  {
   "cell_type": "markdown",
   "metadata": {},
   "source": [
    "### Authentication"
   ]
  },
  {
   "cell_type": "markdown",
   "metadata": {},
   "source": [
    "Put in your persinal client id and client secret"
   ]
  },
  {
   "cell_type": "code",
   "execution_count": null,
   "metadata": {},
   "outputs": [],
   "source": [
    "#Client ID: --***---\n",
    "#Client Secret: ---***---\n",
    "#Client ID and Client Secret are sensititve and you should not share them\n",
    "\n",
    "client_id= <yourclientid>\n",
    "client_secret= <yourclientsecret>\n",
    "\n",
    "#Request for the access code using requests library\n",
    "#I have chosen this method of authentication with my goal in mind\n",
    "\n",
    "access_code = requests.post('https://id.twitch.tv/oauth2/token?client_id='+str(client_id)+'&client_secret='+str(client_secret)+'&grant_type=client_credentials')\n",
    "\n",
    "#access token response is a JSON-encoded app access token\n",
    "access_token = json.loads(access_code.text)\n",
    "access_token = access_token['access_token']\n",
    "\n",
    "#Sample response is\n",
    "\"\"\"\n",
    "{\n",
    "  \"access_token\": \"prau3ol6mg5glgek8m89ec2s9q5i3i\",\n",
    "  \"refresh_token\": \"\",\n",
    "  \"expires_in\": 3600,\n",
    "  \"scope\": [],\n",
    "  \"token_type\": \"bearer\"\n",
    "}\n",
    "\"\"\""
   ]
  },
  {
   "cell_type": "markdown",
   "metadata": {},
   "source": [
    "### Recurring code for the dashboard"
   ]
  },
  {
   "cell_type": "markdown",
   "metadata": {},
   "source": [
    "Just mention the filepath where you want the csv to be saved."
   ]
  },
  {
   "cell_type": "code",
   "execution_count": null,
   "metadata": {},
   "outputs": [],
   "source": [
    "def twitch():\n",
    "    threading.Timer(60.0, twitch).start()\n",
    "    \n",
    "    # Top Games\n",
    "    headers = {\n",
    "        'Authorization' : 'Bearer '+str(access_token),\n",
    "    }\n",
    "    games_response = requests.get('https://api.twitch.tv/helix/games/top?first=100', headers=headers)\n",
    "\n",
    "    games_response_json = json.loads(games_response.text)\n",
    "    topgames_data = games_response_json['data']\n",
    "    topgames_df = pd.DataFrame.from_dict(json_normalize(topgames_data), orient='columns')\n",
    "    \n",
    "    # Top Streamers\n",
    "    headers = {\n",
    "        'Authorization' : 'Bearer '+str(access_token),\n",
    "    }\n",
    "    topstreamsforgame_response = requests.get('https://api.twitch.tv/helix/streams?game_id='+str(topgames_df['id'][0])+'&first=25', headers=headers)\n",
    "\n",
    "    topstreamsforgame_response_json = json.loads(topstreamsforgame_response.text)\n",
    "    topstreamsforgame_data = topstreamsforgame_response_json['data']\n",
    "    topstreamsforgame_df = pd.DataFrame.from_dict(json_normalize(topstreamsforgame_data), orient='columns')\n",
    "\n",
    "    for i in range(1,19) :\n",
    "    \n",
    "        headers = {\n",
    "            'Authorization' : 'Bearer '+str(access_token),\n",
    "        }\n",
    "        topstreamsforgame_response = requests.get('https://api.twitch.tv/helix/streams?game_id='+str(topgames_df['id'][i])+'&first=25', headers=headers)\n",
    "    \n",
    "        topstreamsforgame_response_json = json.loads(topstreamsforgame_response.text)\n",
    "        topstreamsforgame_data = topstreamsforgame_response_json['data']\n",
    "        topstreamsforgame_df_temp = pd.DataFrame.from_dict(json_normalize(topstreamsforgame_data), orient='columns')\n",
    "    \n",
    "        frames = [topstreamsforgame_df, topstreamsforgame_df_temp]\n",
    "        topstreamsforgame_df = pd.concat(frames, ignore_index=True)\n",
    "\n",
    "    # Now that the FOR loop is exited and we have all our data, we export it into a csv\n",
    "    \n",
    "    export_topgames_csv = topgames_df.to_csv (r'/Users/kaivalya/Twitch/Sample/topgames.csv', index = None, header=True) #Don't forget to add '.csv' at the end of the path\n",
    "    \n",
    "    export_topstreamsforgame_csv = topstreamsforgame_df.to_csv (r'/Users/kaivalya/Twitch/Sample/topstreamsforgames.csv', index = None, header=True)\n",
    "    \n",
    "# Our function is defined and it overwrites the CSV every 60 seconds. Now, we call it.\n",
    "twitch()"
   ]
  }
 ],
 "metadata": {
  "kernelspec": {
   "display_name": "Python 3",
   "language": "python",
   "name": "python3"
  },
  "language_info": {
   "codemirror_mode": {
    "name": "ipython",
    "version": 3
   },
   "file_extension": ".py",
   "mimetype": "text/x-python",
   "name": "python",
   "nbconvert_exporter": "python",
   "pygments_lexer": "ipython3",
   "version": "3.7.4"
  }
 },
 "nbformat": 4,
 "nbformat_minor": 2
}
