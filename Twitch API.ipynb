{
 "cells": [
  {
   "cell_type": "markdown",
   "metadata": {},
   "source": [
    "# Creating a live dashboard using Twitch API"
   ]
  },
  {
   "cell_type": "markdown",
   "metadata": {},
   "source": [
    "+ Twitch API let's you access live game, stream, and user-level data. In this project, we are trying to analyze the viewers for top streamers and how this variation changes through the factors like game, language, and country.\n",
    "+ Initial ideas are to create a live visualization that displays game level data, and top streamers within that.\n",
    "\n",
    "- Vardayini, Maddhujeet, and Kaivalya"
   ]
  },
  {
   "cell_type": "markdown",
   "metadata": {},
   "source": [
    "## Learning to access Twitch API"
   ]
  },
  {
   "cell_type": "markdown",
   "metadata": {},
   "source": [
    "### Importing libraries"
   ]
  },
  {
   "cell_type": "code",
   "execution_count": 6,
   "metadata": {},
   "outputs": [],
   "source": [
    "import json\n",
    "import requests\n",
    "import pandas as pd\n",
    "from pandas.io.json import json_normalize\n",
    "import time\n",
    "import threading"
   ]
  },
  {
   "cell_type": "markdown",
   "metadata": {},
   "source": [
    "### Acquiring access code from twitch using Client ID & Client Secret"
   ]
  },
  {
   "cell_type": "code",
   "execution_count": 2,
   "metadata": {},
   "outputs": [],
   "source": [
    "#Kaivalya's Client ID: --***---\n",
    "#Kaivalya's Client Secret: ---***---\n",
    "\n",
    "client_id = ''\n",
    "client_secret = ''\n",
    "\n",
    "access_code = requests.post('https://id.twitch.tv/oauth2/token?client_id='+str(client_id)+'&client_secret='+str(client_secret)+'&grant_type=client_credentials')\n",
    "           "
   ]
  },
  {
   "cell_type": "code",
   "execution_count": null,
   "metadata": {},
   "outputs": [],
   "source": [
    "token = json.loads(access_code.text)\n",
    "access_token = token['access_token']"
   ]
  },
  {
   "cell_type": "code",
   "execution_count": 5,
   "metadata": {},
   "outputs": [
    {
     "data": {
      "text/plain": [
       "<Response [200]>"
      ]
     },
     "execution_count": 5,
     "metadata": {},
     "output_type": "execute_result"
    }
   ],
   "source": [
    "access_code"
   ]
  },
  {
   "cell_type": "code",
   "execution_count": 14,
   "metadata": {},
   "outputs": [],
   "source": [
    "headers = {\n",
    "    'Authorization' : 'Bearer '+str(access_token),\n",
    "}\n",
    "response = requests.get('https://api.twitch.tv/helix/streams?first=100', headers=headers)"
   ]
  },
  {
   "cell_type": "code",
   "execution_count": 15,
   "metadata": {},
   "outputs": [],
   "source": [
    "#print(response.text)\n",
    "response_json = json.loads(response.text)"
   ]
  },
  {
   "cell_type": "code",
   "execution_count": null,
   "metadata": {},
   "outputs": [],
   "source": [
    "data = response_json['data']\n",
    "\n",
    "df = pd.DataFrame.from_dict(json_normalize(data), orient='columns')"
   ]
  },
  {
   "cell_type": "code",
   "execution_count": 17,
   "metadata": {},
   "outputs": [
    {
     "data": {
      "text/html": [
       "<div>\n",
       "<style scoped>\n",
       "    .dataframe tbody tr th:only-of-type {\n",
       "        vertical-align: middle;\n",
       "    }\n",
       "\n",
       "    .dataframe tbody tr th {\n",
       "        vertical-align: top;\n",
       "    }\n",
       "\n",
       "    .dataframe thead th {\n",
       "        text-align: right;\n",
       "    }\n",
       "</style>\n",
       "<table border=\"1\" class=\"dataframe\">\n",
       "  <thead>\n",
       "    <tr style=\"text-align: right;\">\n",
       "      <th></th>\n",
       "      <th>id</th>\n",
       "      <th>user_id</th>\n",
       "      <th>user_name</th>\n",
       "      <th>game_id</th>\n",
       "      <th>type</th>\n",
       "      <th>title</th>\n",
       "      <th>viewer_count</th>\n",
       "      <th>started_at</th>\n",
       "      <th>language</th>\n",
       "      <th>thumbnail_url</th>\n",
       "      <th>tag_ids</th>\n",
       "    </tr>\n",
       "  </thead>\n",
       "  <tbody>\n",
       "    <tr>\n",
       "      <td>0</td>\n",
       "      <td>36363765120</td>\n",
       "      <td>36029255</td>\n",
       "      <td>Riot Games</td>\n",
       "      <td>21779</td>\n",
       "      <td>live</td>\n",
       "      <td>2019 All-Star Event: LCK vs. LPL</td>\n",
       "      <td>60512</td>\n",
       "      <td>2019-12-06T22:56:18Z</td>\n",
       "      <td>en</td>\n",
       "      <td>https://static-cdn.jtvnw.net/previews-ttv/live...</td>\n",
       "      <td>[6ea6bca4-4712-4ab9-a906-e3336a9d8039]</td>\n",
       "    </tr>\n",
       "    <tr>\n",
       "      <td>1</td>\n",
       "      <td>36363991600</td>\n",
       "      <td>190835892</td>\n",
       "      <td>LCK_Korea</td>\n",
       "      <td>21779</td>\n",
       "      <td>live</td>\n",
       "      <td>2019 LoL 올스타전 2일차</td>\n",
       "      <td>32804</td>\n",
       "      <td>2019-12-06T23:30:04Z</td>\n",
       "      <td>ko</td>\n",
       "      <td>https://static-cdn.jtvnw.net/previews-ttv/live...</td>\n",
       "      <td>[ab2975e3-b9ca-4b1a-a93e-fb61a5d5c3a4]</td>\n",
       "    </tr>\n",
       "    <tr>\n",
       "      <td>2</td>\n",
       "      <td>36362725360</td>\n",
       "      <td>71092938</td>\n",
       "      <td>xQcOW</td>\n",
       "      <td>458641</td>\n",
       "      <td>live</td>\n",
       "      <td>OMG! IS IT TIME! ALREDY! AHHHH!</td>\n",
       "      <td>20544</td>\n",
       "      <td>2019-12-06T19:24:07Z</td>\n",
       "      <td>en</td>\n",
       "      <td>https://static-cdn.jtvnw.net/previews-ttv/live...</td>\n",
       "      <td>[6ea6bca4-4712-4ab9-a906-e3336a9d8039, 1eba3cf...</td>\n",
       "    </tr>\n",
       "    <tr>\n",
       "      <td>3</td>\n",
       "      <td>36363164752</td>\n",
       "      <td>29795919</td>\n",
       "      <td>nl_Kripp</td>\n",
       "      <td>138585</td>\n",
       "      <td>live</td>\n",
       "      <td>KRIPP BATTLEGROUNDS ALL DAY | Rafaam OP! youtu...</td>\n",
       "      <td>15075</td>\n",
       "      <td>2019-12-06T21:07:32Z</td>\n",
       "      <td>en</td>\n",
       "      <td>https://static-cdn.jtvnw.net/previews-ttv/live...</td>\n",
       "      <td>[6ea6bca4-4712-4ab9-a906-e3336a9d8039, 7f61316...</td>\n",
       "    </tr>\n",
       "    <tr>\n",
       "      <td>4</td>\n",
       "      <td>36364530992</td>\n",
       "      <td>163836275</td>\n",
       "      <td>Lord_Kebun</td>\n",
       "      <td>32982</td>\n",
       "      <td>live</td>\n",
       "      <td>Mr.Chang | NoPixel RP | Twitter @LordKebun</td>\n",
       "      <td>13856</td>\n",
       "      <td>2019-12-07T00:42:41Z</td>\n",
       "      <td>en</td>\n",
       "      <td>https://static-cdn.jtvnw.net/previews-ttv/live...</td>\n",
       "      <td>[6ea6bca4-4712-4ab9-a906-e3336a9d8039]</td>\n",
       "    </tr>\n",
       "  </tbody>\n",
       "</table>\n",
       "</div>"
      ],
      "text/plain": [
       "            id    user_id   user_name game_id  type  \\\n",
       "0  36363765120   36029255  Riot Games   21779  live   \n",
       "1  36363991600  190835892   LCK_Korea   21779  live   \n",
       "2  36362725360   71092938       xQcOW  458641  live   \n",
       "3  36363164752   29795919    nl_Kripp  138585  live   \n",
       "4  36364530992  163836275  Lord_Kebun   32982  live   \n",
       "\n",
       "                                               title  viewer_count  \\\n",
       "0                   2019 All-Star Event: LCK vs. LPL         60512   \n",
       "1                                  2019 LoL 올스타전 2일차         32804   \n",
       "2                    OMG! IS IT TIME! ALREDY! AHHHH!         20544   \n",
       "3  KRIPP BATTLEGROUNDS ALL DAY | Rafaam OP! youtu...         15075   \n",
       "4         Mr.Chang | NoPixel RP | Twitter @LordKebun         13856   \n",
       "\n",
       "             started_at language  \\\n",
       "0  2019-12-06T22:56:18Z       en   \n",
       "1  2019-12-06T23:30:04Z       ko   \n",
       "2  2019-12-06T19:24:07Z       en   \n",
       "3  2019-12-06T21:07:32Z       en   \n",
       "4  2019-12-07T00:42:41Z       en   \n",
       "\n",
       "                                       thumbnail_url  \\\n",
       "0  https://static-cdn.jtvnw.net/previews-ttv/live...   \n",
       "1  https://static-cdn.jtvnw.net/previews-ttv/live...   \n",
       "2  https://static-cdn.jtvnw.net/previews-ttv/live...   \n",
       "3  https://static-cdn.jtvnw.net/previews-ttv/live...   \n",
       "4  https://static-cdn.jtvnw.net/previews-ttv/live...   \n",
       "\n",
       "                                             tag_ids  \n",
       "0             [6ea6bca4-4712-4ab9-a906-e3336a9d8039]  \n",
       "1             [ab2975e3-b9ca-4b1a-a93e-fb61a5d5c3a4]  \n",
       "2  [6ea6bca4-4712-4ab9-a906-e3336a9d8039, 1eba3cf...  \n",
       "3  [6ea6bca4-4712-4ab9-a906-e3336a9d8039, 7f61316...  \n",
       "4             [6ea6bca4-4712-4ab9-a906-e3336a9d8039]  "
      ]
     },
     "execution_count": 17,
     "metadata": {},
     "output_type": "execute_result"
    }
   ],
   "source": [
    "df.head()"
   ]
  },
  {
   "cell_type": "markdown",
   "metadata": {},
   "source": [
    "### Creating a CSV for Stream data"
   ]
  },
  {
   "cell_type": "code",
   "execution_count": 9,
   "metadata": {},
   "outputs": [],
   "source": [
    "export_csv = df.to_csv (r'/Users/kaivalya/Twitch/first.csv', index = None, header=True) #Don't forget to add '.csv' at the end of the path\n",
    "\n",
    "\n",
    "# Saved to local directory:/Users/kaivalya/Twitch/ as first.csv"
   ]
  },
  {
   "cell_type": "markdown",
   "metadata": {},
   "source": [
    "## Accessing Game data \n",
    "\n",
    "### Making a list of all games in the top 100 streams"
   ]
  },
  {
   "cell_type": "code",
   "execution_count": 10,
   "metadata": {},
   "outputs": [],
   "source": [
    "game_ids = list(df['game_id'])\n",
    "game_ids = '&id='.join(game_ids)"
   ]
  },
  {
   "cell_type": "code",
   "execution_count": 11,
   "metadata": {},
   "outputs": [
    {
     "data": {
      "text/plain": [
       "'417969&id=21779&id=509658&id=0&id=33214&id=29595&id=503446&id=512710&id=489635&id=138585&id=509658&id=21779&id=32982&id=21779&id=509658&id=138585&id=509658&id=509658&id=21779&id=512710&id=32399&id=29595&id=138585&id=509658&id=21779&id=29595&id=263490&id=513143&id=489635&id=21779&id=509658&id=33214&id=33214&id=488552&id=&id=511399&id=18122&id=65632&id=21779&id=21779&id=509658&id=33214&id=33214&id=512710&id=65632&id=489635&id=512710&id=460630&id=512804&id=511224&id=509658&id=511224&id=509658&id=512526&id=65632&id=65632&id=29595&id=488190&id=509658&id=488190&id=29595&id=509658&id=138585&id=509658&id=509658&id=32399&id=511399&id=509658&id=512710&id=138585&id=509672&id=138585&id=21779&id=513143&id=497451&id=491487&id=29595&id=498566&id=509658&id=21779&id=29307&id=417752&id=18122&id=21779&id=509658&id=21779&id=488190&id=21779&id=21779&id=29595&id=512988&id=512804&id=497451&id=512710&id=26936&id=21779&id=21779&id=32982&id=493959&id=493057'"
      ]
     },
     "execution_count": 11,
     "metadata": {},
     "output_type": "execute_result"
    }
   ],
   "source": [
    "game_ids"
   ]
  },
  {
   "cell_type": "markdown",
   "metadata": {},
   "source": [
    "### Passing the list of 100 games to get the game's name from its ID"
   ]
  },
  {
   "cell_type": "code",
   "execution_count": null,
   "metadata": {},
   "outputs": [],
   "source": [
    "headers = {\n",
    "    'Authorization' : 'Bearer '+str(access_token),\n",
    "}\n",
    "response_games = requests.get('https://api.twitch.tv/helix/games?id='+game_ids, headers=headers)\n",
    "\n",
    "response_games_json = json.loads(response_games.text)"
   ]
  },
  {
   "cell_type": "markdown",
   "metadata": {},
   "source": [
    "### Converting game data json into a dataframe"
   ]
  },
  {
   "cell_type": "code",
   "execution_count": 13,
   "metadata": {},
   "outputs": [
    {
     "data": {
      "text/html": [
       "<div>\n",
       "<style scoped>\n",
       "    .dataframe tbody tr th:only-of-type {\n",
       "        vertical-align: middle;\n",
       "    }\n",
       "\n",
       "    .dataframe tbody tr th {\n",
       "        vertical-align: top;\n",
       "    }\n",
       "\n",
       "    .dataframe thead th {\n",
       "        text-align: right;\n",
       "    }\n",
       "</style>\n",
       "<table border=\"1\" class=\"dataframe\">\n",
       "  <thead>\n",
       "    <tr style=\"text-align: right;\">\n",
       "      <th></th>\n",
       "      <th>id</th>\n",
       "      <th>name</th>\n",
       "      <th>box_art_url</th>\n",
       "    </tr>\n",
       "  </thead>\n",
       "  <tbody>\n",
       "    <tr>\n",
       "      <td>0</td>\n",
       "      <td>513143</td>\n",
       "      <td>Teamfight Tactics</td>\n",
       "      <td>https://static-cdn.jtvnw.net/ttv-boxart/Teamfi...</td>\n",
       "    </tr>\n",
       "    <tr>\n",
       "      <td>1</td>\n",
       "      <td>488552</td>\n",
       "      <td>Overwatch</td>\n",
       "      <td>https://static-cdn.jtvnw.net/ttv-boxart/Overwa...</td>\n",
       "    </tr>\n",
       "    <tr>\n",
       "      <td>2</td>\n",
       "      <td>29595</td>\n",
       "      <td>Dota 2</td>\n",
       "      <td>https://static-cdn.jtvnw.net/ttv-boxart/Dota%2...</td>\n",
       "    </tr>\n",
       "    <tr>\n",
       "      <td>3</td>\n",
       "      <td>460630</td>\n",
       "      <td>Tom Clancy's Rainbow Six: Siege</td>\n",
       "      <td>https://static-cdn.jtvnw.net/ttv-boxart/./Tom%...</td>\n",
       "    </tr>\n",
       "    <tr>\n",
       "      <td>4</td>\n",
       "      <td>512710</td>\n",
       "      <td>Call of Duty: Modern Warfare</td>\n",
       "      <td>https://static-cdn.jtvnw.net/ttv-boxart/./Call...</td>\n",
       "    </tr>\n",
       "  </tbody>\n",
       "</table>\n",
       "</div>"
      ],
      "text/plain": [
       "       id                             name  \\\n",
       "0  513143                Teamfight Tactics   \n",
       "1  488552                        Overwatch   \n",
       "2   29595                           Dota 2   \n",
       "3  460630  Tom Clancy's Rainbow Six: Siege   \n",
       "4  512710     Call of Duty: Modern Warfare   \n",
       "\n",
       "                                         box_art_url  \n",
       "0  https://static-cdn.jtvnw.net/ttv-boxart/Teamfi...  \n",
       "1  https://static-cdn.jtvnw.net/ttv-boxart/Overwa...  \n",
       "2  https://static-cdn.jtvnw.net/ttv-boxart/Dota%2...  \n",
       "3  https://static-cdn.jtvnw.net/ttv-boxart/./Tom%...  \n",
       "4  https://static-cdn.jtvnw.net/ttv-boxart/./Call...  "
      ]
     },
     "execution_count": 13,
     "metadata": {},
     "output_type": "execute_result"
    }
   ],
   "source": [
    "data_games = response_games_json['data']\n",
    "\n",
    "games_df = pd.DataFrame.from_dict(json_normalize(data_games), orient='columns')\n",
    "games_df.head()"
   ]
  },
  {
   "cell_type": "markdown",
   "metadata": {},
   "source": [
    "### Converting the df into a csv to explore in Tableau"
   ]
  },
  {
   "cell_type": "code",
   "execution_count": 14,
   "metadata": {},
   "outputs": [],
   "source": [
    "export_games_csv = games_df.to_csv (r'/Users/kaivalya/Twitch/first_games.csv', index = None, header=True) #Don't forget to add '.csv' at the end of the path\n",
    "\n",
    "# Saved in local directory: /Users/kaivalya/Twitch/ as first_games.csv"
   ]
  },
  {
   "cell_type": "markdown",
   "metadata": {},
   "source": [
    "### repeatable code"
   ]
  },
  {
   "cell_type": "code",
   "execution_count": 2,
   "metadata": {},
   "outputs": [],
   "source": [
    "\n",
    "def twitch():\n",
    "    threading.Timer(60.0, twitch).start()\n",
    "    \n",
    "    headers = {\n",
    "        'Authorization' : 'Bearer '+str(access_token),\n",
    "    }\n",
    "    response = requests.get('https://api.twitch.tv/helix/streams?first=100', headers=headers)\n",
    "\n",
    "    response_json = json.loads(response.text)\n",
    "    data = response_json['data']\n",
    "    df = pd.DataFrame.from_dict(json_normalize(data), orient='columns')\n",
    "    export_csv = df.to_csv (r'/Users/kaivalya/Twitch/first.csv', index = None, header=True)\n",
    "    \n",
    "    game_ids = list(df['game_id'])\n",
    "    game_ids = '&id='.join(game_ids)\n",
    "\n",
    "    headers = {\n",
    "        'Authorization' : 'Bearer '+str(access_token),\n",
    "    }\n",
    "    response_games = requests.get('https://api.twitch.tv/helix/games?id='+game_ids, headers=headers)\n",
    "\n",
    "    #print(response_games.text)\n",
    "    response_games_json = json.loads(response_games.text)\n",
    "    data_games = response_games_json['data']\n",
    "    games_df = pd.DataFrame.from_dict(json_normalize(data_games), orient='columns')\n",
    "    export_games_csv = games_df.to_csv (r'/Users/kaivalya/Twitch/first_games.csv', index = None, header=True)\n",
    "\n",
    "twitch()"
   ]
  },
  {
   "cell_type": "markdown",
   "metadata": {},
   "source": [
    "## Exploring other APIs"
   ]
  },
  {
   "cell_type": "markdown",
   "metadata": {},
   "source": [
    "### Getting Streamers information"
   ]
  },
  {
   "cell_type": "code",
   "execution_count": 18,
   "metadata": {},
   "outputs": [
    {
     "data": {
      "text/plain": [
       "'36029255&id=190835892&id=71092938&id=29795919&id=163836275&id=26490481&id=121059319&id=28462004&id=41783889&id=36511475&id=79854877&id=120244187&id=93053674&id=104833324&id=22346597&id=192678094&id=63602976&id=54706574&id=28036688&id=32140000&id=52614128&id=69906737&id=31239503&id=26707340&id=51914127&id=39885827&id=11249217&id=38251312&id=20993498&id=29289159&id=7010591&id=20786541&id=93049594&id=30672329&id=29899360&id=38594688&id=207813352&id=23523971&id=24811779&id=28379957&id=117379932&id=71852533&id=18074328&id=61433001&id=63164470&id=9679595&id=40336240&id=1518077&id=28219022&id=47702337&id=63880003&id=48281577&id=137640527&id=34932688&id=134826318&id=20650414&id=133220545&id=121063510&id=181077473&id=155601320&id=50237189&id=36620767&id=149188013&id=464134384&id=84316241&id=36513760&id=39724467&id=15554591&id=23852822&id=79615025&id=26469355&id=61504845&id=474745252&id=38881685&id=28703999&id=40754777&id=96858382&id=94875296&id=198506129&id=68292428&id=205301469&id=15027034&id=23936415&id=27992608&id=118336478&id=85581832&id=49233748&id=43784278&id=111518512&id=456058546&id=121510236&id=23220337&id=137330081&id=52968416&id=37522866&id=4073179&id=144555242&id=123983762'"
      ]
     },
     "execution_count": 18,
     "metadata": {},
     "output_type": "execute_result"
    }
   ],
   "source": [
    "user_ids = list(df['user_id'])\n",
    "user_ids = '&id='.join(user_ids)\n",
    "user_ids"
   ]
  },
  {
   "cell_type": "code",
   "execution_count": 19,
   "metadata": {},
   "outputs": [],
   "source": [
    "headers = {\n",
    "    'Authorization': 'Bearer '+str(access_token),\n",
    "}\n",
    "response_user_ids = requests.get('https://api.twitch.tv/helix/users?id='+user_ids, headers=headers)"
   ]
  },
  {
   "cell_type": "code",
   "execution_count": 20,
   "metadata": {},
   "outputs": [
    {
     "data": {
      "text/html": [
       "<div>\n",
       "<style scoped>\n",
       "    .dataframe tbody tr th:only-of-type {\n",
       "        vertical-align: middle;\n",
       "    }\n",
       "\n",
       "    .dataframe tbody tr th {\n",
       "        vertical-align: top;\n",
       "    }\n",
       "\n",
       "    .dataframe thead th {\n",
       "        text-align: right;\n",
       "    }\n",
       "</style>\n",
       "<table border=\"1\" class=\"dataframe\">\n",
       "  <thead>\n",
       "    <tr style=\"text-align: right;\">\n",
       "      <th></th>\n",
       "      <th>id</th>\n",
       "      <th>login</th>\n",
       "      <th>display_name</th>\n",
       "      <th>type</th>\n",
       "      <th>broadcaster_type</th>\n",
       "      <th>description</th>\n",
       "      <th>profile_image_url</th>\n",
       "      <th>offline_image_url</th>\n",
       "      <th>view_count</th>\n",
       "    </tr>\n",
       "  </thead>\n",
       "  <tbody>\n",
       "    <tr>\n",
       "      <td>0</td>\n",
       "      <td>36029255</td>\n",
       "      <td>riotgames</td>\n",
       "      <td>Riot Games</td>\n",
       "      <td></td>\n",
       "      <td>partner</td>\n",
       "      <td>Welcome to the Riot Games channel, home of the...</td>\n",
       "      <td>https://static-cdn.jtvnw.net/jtv_user_pictures...</td>\n",
       "      <td>https://static-cdn.jtvnw.net/jtv_user_pictures...</td>\n",
       "      <td>1214850084</td>\n",
       "    </tr>\n",
       "    <tr>\n",
       "      <td>1</td>\n",
       "      <td>190835892</td>\n",
       "      <td>lck_korea</td>\n",
       "      <td>LCK_Korea</td>\n",
       "      <td></td>\n",
       "      <td>partner</td>\n",
       "      <td></td>\n",
       "      <td>https://static-cdn.jtvnw.net/jtv_user_pictures...</td>\n",
       "      <td>https://static-cdn.jtvnw.net/jtv_user_pictures...</td>\n",
       "      <td>118223163</td>\n",
       "    </tr>\n",
       "    <tr>\n",
       "      <td>2</td>\n",
       "      <td>71092938</td>\n",
       "      <td>xqcow</td>\n",
       "      <td>xQcOW</td>\n",
       "      <td></td>\n",
       "      <td>partner</td>\n",
       "      <td>Overwatch Professional tank player and full ti...</td>\n",
       "      <td>https://static-cdn.jtvnw.net/jtv_user_pictures...</td>\n",
       "      <td>https://static-cdn.jtvnw.net/jtv_user_pictures...</td>\n",
       "      <td>103410236</td>\n",
       "    </tr>\n",
       "    <tr>\n",
       "      <td>3</td>\n",
       "      <td>29795919</td>\n",
       "      <td>nl_kripp</td>\n",
       "      <td>nl_Kripp</td>\n",
       "      <td></td>\n",
       "      <td>partner</td>\n",
       "      <td>Gamer YouTuber Streamer Joker</td>\n",
       "      <td>https://static-cdn.jtvnw.net/jtv_user_pictures...</td>\n",
       "      <td>https://static-cdn.jtvnw.net/jtv_user_pictures...</td>\n",
       "      <td>230645297</td>\n",
       "    </tr>\n",
       "    <tr>\n",
       "      <td>4</td>\n",
       "      <td>163836275</td>\n",
       "      <td>lord_kebun</td>\n",
       "      <td>Lord_Kebun</td>\n",
       "      <td></td>\n",
       "      <td>partner</td>\n",
       "      <td>Always keep it entertaining</td>\n",
       "      <td>https://static-cdn.jtvnw.net/jtv_user_pictures...</td>\n",
       "      <td>https://static-cdn.jtvnw.net/jtv_user_pictures...</td>\n",
       "      <td>19013922</td>\n",
       "    </tr>\n",
       "  </tbody>\n",
       "</table>\n",
       "</div>"
      ],
      "text/plain": [
       "          id       login display_name type broadcaster_type  \\\n",
       "0   36029255   riotgames   Riot Games               partner   \n",
       "1  190835892   lck_korea    LCK_Korea               partner   \n",
       "2   71092938       xqcow        xQcOW               partner   \n",
       "3   29795919    nl_kripp     nl_Kripp               partner   \n",
       "4  163836275  lord_kebun   Lord_Kebun               partner   \n",
       "\n",
       "                                         description  \\\n",
       "0  Welcome to the Riot Games channel, home of the...   \n",
       "1                                                      \n",
       "2  Overwatch Professional tank player and full ti...   \n",
       "3                      Gamer YouTuber Streamer Joker   \n",
       "4                       Always keep it entertaining    \n",
       "\n",
       "                                   profile_image_url  \\\n",
       "0  https://static-cdn.jtvnw.net/jtv_user_pictures...   \n",
       "1  https://static-cdn.jtvnw.net/jtv_user_pictures...   \n",
       "2  https://static-cdn.jtvnw.net/jtv_user_pictures...   \n",
       "3  https://static-cdn.jtvnw.net/jtv_user_pictures...   \n",
       "4  https://static-cdn.jtvnw.net/jtv_user_pictures...   \n",
       "\n",
       "                                   offline_image_url  view_count  \n",
       "0  https://static-cdn.jtvnw.net/jtv_user_pictures...  1214850084  \n",
       "1  https://static-cdn.jtvnw.net/jtv_user_pictures...   118223163  \n",
       "2  https://static-cdn.jtvnw.net/jtv_user_pictures...   103410236  \n",
       "3  https://static-cdn.jtvnw.net/jtv_user_pictures...   230645297  \n",
       "4  https://static-cdn.jtvnw.net/jtv_user_pictures...    19013922  "
      ]
     },
     "execution_count": 20,
     "metadata": {},
     "output_type": "execute_result"
    }
   ],
   "source": [
    "response_user_json = json.loads(response_user_ids.text)\n",
    "data_user = response_user_json['data']\n",
    "users_df = pd.DataFrame.from_dict(json_normalize(data_user), orient='columns')\n",
    "\n",
    "users_df.head()"
   ]
  },
  {
   "cell_type": "code",
   "execution_count": 22,
   "metadata": {},
   "outputs": [
    {
     "data": {
      "text/plain": [
       "partner      92\n",
       "affiliate     4\n",
       "              2\n",
       "Name: broadcaster_type, dtype: int64"
      ]
     },
     "execution_count": 22,
     "metadata": {},
     "output_type": "execute_result"
    }
   ],
   "source": [
    "users_df['broadcaster_type'].value_counts()"
   ]
  },
  {
   "cell_type": "markdown",
   "metadata": {},
   "source": [
    "## pagination & game data"
   ]
  },
  {
   "cell_type": "code",
   "execution_count": 7,
   "metadata": {},
   "outputs": [],
   "source": [
    "headers = {\n",
    "    'Authorization' : 'Bearer '+str(access_token),\n",
    "}\n",
    "games_response = requests.get('https://api.twitch.tv/helix/games/top?first=100', headers=headers)"
   ]
  },
  {
   "cell_type": "code",
   "execution_count": 8,
   "metadata": {},
   "outputs": [
    {
     "name": "stdout",
     "output_type": "stream",
     "text": [
      "<class 'pandas.core.frame.DataFrame'>\n",
      "RangeIndex: 99 entries, 0 to 98\n",
      "Data columns (total 3 columns):\n",
      "id             99 non-null object\n",
      "name           99 non-null object\n",
      "box_art_url    99 non-null object\n",
      "dtypes: object(3)\n",
      "memory usage: 2.4+ KB\n"
     ]
    }
   ],
   "source": [
    "#print(response.text)\n",
    "games_response_json = json.loads(games_response.text)\n",
    "\n",
    "topgames_data = games_response_json['data']\n",
    "\n",
    "topgames_df = pd.DataFrame.from_dict(json_normalize(topgames_data), orient='columns')\n",
    "topgames_df.info()"
   ]
  },
  {
   "cell_type": "code",
   "execution_count": 9,
   "metadata": {},
   "outputs": [
    {
     "data": {
      "text/html": [
       "<div>\n",
       "<style scoped>\n",
       "    .dataframe tbody tr th:only-of-type {\n",
       "        vertical-align: middle;\n",
       "    }\n",
       "\n",
       "    .dataframe tbody tr th {\n",
       "        vertical-align: top;\n",
       "    }\n",
       "\n",
       "    .dataframe thead th {\n",
       "        text-align: right;\n",
       "    }\n",
       "</style>\n",
       "<table border=\"1\" class=\"dataframe\">\n",
       "  <thead>\n",
       "    <tr style=\"text-align: right;\">\n",
       "      <th></th>\n",
       "      <th>id</th>\n",
       "      <th>name</th>\n",
       "      <th>box_art_url</th>\n",
       "    </tr>\n",
       "  </thead>\n",
       "  <tbody>\n",
       "    <tr>\n",
       "      <td>0</td>\n",
       "      <td>33214</td>\n",
       "      <td>Fortnite</td>\n",
       "      <td>https://static-cdn.jtvnw.net/ttv-boxart/Fortni...</td>\n",
       "    </tr>\n",
       "    <tr>\n",
       "      <td>1</td>\n",
       "      <td>21779</td>\n",
       "      <td>League of Legends</td>\n",
       "      <td>https://static-cdn.jtvnw.net/ttv-boxart/League...</td>\n",
       "    </tr>\n",
       "    <tr>\n",
       "      <td>2</td>\n",
       "      <td>509658</td>\n",
       "      <td>Just Chatting</td>\n",
       "      <td>https://static-cdn.jtvnw.net/ttv-boxart/Just%2...</td>\n",
       "    </tr>\n",
       "    <tr>\n",
       "      <td>3</td>\n",
       "      <td>512070</td>\n",
       "      <td>Jump King</td>\n",
       "      <td>https://static-cdn.jtvnw.net/ttv-boxart/Jump%2...</td>\n",
       "    </tr>\n",
       "    <tr>\n",
       "      <td>4</td>\n",
       "      <td>32982</td>\n",
       "      <td>Grand Theft Auto V</td>\n",
       "      <td>https://static-cdn.jtvnw.net/ttv-boxart/Grand%...</td>\n",
       "    </tr>\n",
       "  </tbody>\n",
       "</table>\n",
       "</div>"
      ],
      "text/plain": [
       "       id                name  \\\n",
       "0   33214            Fortnite   \n",
       "1   21779   League of Legends   \n",
       "2  509658       Just Chatting   \n",
       "3  512070           Jump King   \n",
       "4   32982  Grand Theft Auto V   \n",
       "\n",
       "                                         box_art_url  \n",
       "0  https://static-cdn.jtvnw.net/ttv-boxart/Fortni...  \n",
       "1  https://static-cdn.jtvnw.net/ttv-boxart/League...  \n",
       "2  https://static-cdn.jtvnw.net/ttv-boxart/Just%2...  \n",
       "3  https://static-cdn.jtvnw.net/ttv-boxart/Jump%2...  \n",
       "4  https://static-cdn.jtvnw.net/ttv-boxart/Grand%...  "
      ]
     },
     "execution_count": 9,
     "metadata": {},
     "output_type": "execute_result"
    }
   ],
   "source": [
    "topgames_df.head()"
   ]
  },
  {
   "cell_type": "code",
   "execution_count": 124,
   "metadata": {},
   "outputs": [
    {
     "name": "stdout",
     "output_type": "stream",
     "text": [
      "eyJzIjoxMDAsImQiOmZhbHNlLCJ0Ijp0cnVlfQ==\n",
      "{'cursor': 'eyJzIjoxMDAsImQiOmZhbHNlLCJ0Ijp0cnVlfQ=='}\n"
     ]
    },
    {
     "data": {
      "text/plain": [
       "'eyJzIjoxMDAsImQiOmZhbHNlLCJ0Ijp0cnVlfQ=='"
      ]
     },
     "execution_count": 124,
     "metadata": {},
     "output_type": "execute_result"
    }
   ],
   "source": [
    "topgames_data = games_response_json['pagination']\n",
    "pagination= topgames_data['cursor']\n",
    "print(pagination)\n",
    "print(topgames_data)\n",
    "str(pagination)"
   ]
  },
  {
   "cell_type": "code",
   "execution_count": 129,
   "metadata": {},
   "outputs": [
    {
     "name": "stdout",
     "output_type": "stream",
     "text": [
      "eyJzIjoyMDAsImQiOmZhbHNlLCJ0Ijp0cnVlfQ==\n",
      "{'cursor': 'eyJzIjoyMDAsImQiOmZhbHNlLCJ0Ijp0cnVlfQ=='}\n"
     ]
    }
   ],
   "source": [
    "topgames_data = games_response_json['pagination']\n",
    "pagination= topgames_data['cursor']\n",
    "print(pagination)\n",
    "print(topgames_data)\n",
    "str(pagination)\n",
    "\n",
    "headers = {\n",
    "    'Authorization' : 'Bearer '+str(access_token),\n",
    "}\n",
    "games_response = requests.get('https://api.twitch.tv/helix/games/top?first=100&after='+str(pagination), headers=headers)"
   ]
  },
  {
   "cell_type": "code",
   "execution_count": 130,
   "metadata": {},
   "outputs": [
    {
     "name": "stdout",
     "output_type": "stream",
     "text": [
      "<class 'pandas.core.frame.DataFrame'>\n",
      "RangeIndex: 100 entries, 0 to 99\n",
      "Data columns (total 3 columns):\n",
      "id             100 non-null object\n",
      "name           100 non-null object\n",
      "box_art_url    100 non-null object\n",
      "dtypes: object(3)\n",
      "memory usage: 2.5+ KB\n"
     ]
    }
   ],
   "source": [
    "#print(response.text)\n",
    "games_response_json = json.loads(games_response.text)\n",
    "\n",
    "topgames_data = games_response_json['data']\n",
    "topgames_df_temp = pd.DataFrame.from_dict(json_normalize(topgames_data), orient='columns')\n",
    "topgames_df_temp.info()"
   ]
  },
  {
   "cell_type": "code",
   "execution_count": 131,
   "metadata": {},
   "outputs": [
    {
     "name": "stdout",
     "output_type": "stream",
     "text": [
      "<Response [200]>\n"
     ]
    }
   ],
   "source": [
    "print(games_response)"
   ]
  },
  {
   "cell_type": "code",
   "execution_count": 132,
   "metadata": {},
   "outputs": [
    {
     "name": "stdout",
     "output_type": "stream",
     "text": [
      "<class 'pandas.core.frame.DataFrame'>\n",
      "RangeIndex: 299 entries, 0 to 298\n",
      "Data columns (total 3 columns):\n",
      "id             299 non-null object\n",
      "name           299 non-null object\n",
      "box_art_url    299 non-null object\n",
      "dtypes: object(3)\n",
      "memory usage: 7.1+ KB\n"
     ]
    }
   ],
   "source": [
    "#topgames_df.append(topgames_df_temp, ignore_index=True, sort=False)\n",
    "frames = [topgames_df, topgames_df_temp]\n",
    "topgames_df = pd.concat(frames, ignore_index=True)\n",
    "topgames_df.info()"
   ]
  },
  {
   "cell_type": "code",
   "execution_count": 149,
   "metadata": {},
   "outputs": [],
   "source": [
    "export_topgames_csv = topgames_df.to_csv (r'/Users/kaivalya/Twitch/topgames.csv', index = None, header=True)"
   ]
  },
  {
   "cell_type": "markdown",
   "metadata": {},
   "source": [
    "### getting stream data for the games"
   ]
  },
  {
   "cell_type": "code",
   "execution_count": 10,
   "metadata": {},
   "outputs": [
    {
     "data": {
      "text/plain": [
       "'33214'"
      ]
     },
     "execution_count": 10,
     "metadata": {},
     "output_type": "execute_result"
    }
   ],
   "source": [
    "topstreamsforgame_ids = topgames_df['id']\n",
    "topstreamsforgame_ids[0]"
   ]
  },
  {
   "cell_type": "code",
   "execution_count": 11,
   "metadata": {},
   "outputs": [],
   "source": [
    "headers = {\n",
    "    'Authorization' : 'Bearer '+str(access_token),\n",
    "}\n",
    "topstreamsforgame_response = requests.get('https://api.twitch.tv/helix/streams?game_id='+str(topgames_df['id'][0])+'&first=100', headers=headers)\n"
   ]
  },
  {
   "cell_type": "code",
   "execution_count": 12,
   "metadata": {},
   "outputs": [
    {
     "name": "stdout",
     "output_type": "stream",
     "text": [
      "<Response [200]>\n"
     ]
    }
   ],
   "source": [
    "print(topstreamsforgame_response)"
   ]
  },
  {
   "cell_type": "code",
   "execution_count": null,
   "metadata": {},
   "outputs": [],
   "source": [
    "topstreamsforgame_response_json = json.loads(topstreamsforgame_response.text)\n",
    "\n",
    "topstreamsforgame_data = topstreamsforgame_response_json['data']\n",
    "\n",
    "topstreamsforgame_df = pd.DataFrame.from_dict(json_normalize(topstreamsforgame_data), orient='columns')\n",
    "topstreamsforgame_df.head()"
   ]
  },
  {
   "cell_type": "markdown",
   "metadata": {},
   "source": [
    "### Automating the code pull"
   ]
  },
  {
   "cell_type": "markdown",
   "metadata": {},
   "source": [
    "Automating the pulling of top streamer data for top games. I put in a sleep timer for 30 seconds, so this snippet takes about 20 minutes to run depending on the recurrence of for loops"
   ]
  },
  {
   "cell_type": "code",
   "execution_count": 14,
   "metadata": {},
   "outputs": [
    {
     "name": "stdout",
     "output_type": "stream",
     "text": [
      "<class 'pandas.core.frame.DataFrame'>\n",
      "RangeIndex: 475 entries, 0 to 474\n",
      "Data columns (total 11 columns):\n",
      "id               475 non-null object\n",
      "user_id          475 non-null object\n",
      "user_name        475 non-null object\n",
      "game_id          475 non-null object\n",
      "type             475 non-null object\n",
      "title            475 non-null object\n",
      "viewer_count     475 non-null int64\n",
      "started_at       475 non-null object\n",
      "language         475 non-null object\n",
      "thumbnail_url    475 non-null object\n",
      "tag_ids          475 non-null object\n",
      "dtypes: int64(1), object(10)\n",
      "memory usage: 40.9+ KB\n"
     ]
    }
   ],
   "source": [
    "# REALLY LONG CODE\n",
    "#Accessing API\n",
    "headers = {\n",
    "    'Authorization' : 'Bearer '+str(access_token),\n",
    "}\n",
    "topstreamsforgame_response = requests.get('https://api.twitch.tv/helix/streams?game_id='+str(topgames_df['id'][0])+'&first=25', headers=headers)\n",
    "\n",
    "# Converting to JSON\n",
    "topstreamsforgame_response_json = json.loads(topstreamsforgame_response.text)\n",
    "\n",
    "# Getting data from the JSON\n",
    "topstreamsforgame_data = topstreamsforgame_response_json['data']\n",
    "\n",
    "# Converting into a DataFrame\n",
    "topstreamsforgame_df = pd.DataFrame.from_dict(json_normalize(topstreamsforgame_data), orient='columns')\n",
    "\n",
    "# Automated flow\n",
    "for i in range(1,19) :\n",
    "    \n",
    "    headers = {\n",
    "        'Authorization' : 'Bearer '+str(access_token),\n",
    "    }\n",
    "    topstreamsforgame_response = requests.get('https://api.twitch.tv/helix/streams?game_id='+str(topgames_df['id'][i])+'&first=25', headers=headers)\n",
    "    \n",
    "    topstreamsforgame_response_json = json.loads(topstreamsforgame_response.text)\n",
    "    topstreamsforgame_data = topstreamsforgame_response_json['data']\n",
    "    topstreamsforgame_df_temp = pd.DataFrame.from_dict(json_normalize(topstreamsforgame_data), orient='columns')\n",
    "    \n",
    "    frames = [topstreamsforgame_df, topstreamsforgame_df_temp]\n",
    "    topstreamsforgame_df = pd.concat(frames, ignore_index=True)\n",
    "    \n",
    "    #time.sleep(30)\n",
    "\n",
    "topstreamsforgame_df.info()"
   ]
  },
  {
   "cell_type": "code",
   "execution_count": 16,
   "metadata": {},
   "outputs": [
    {
     "data": {
      "text/html": [
       "<div>\n",
       "<style scoped>\n",
       "    .dataframe tbody tr th:only-of-type {\n",
       "        vertical-align: middle;\n",
       "    }\n",
       "\n",
       "    .dataframe tbody tr th {\n",
       "        vertical-align: top;\n",
       "    }\n",
       "\n",
       "    .dataframe thead th {\n",
       "        text-align: right;\n",
       "    }\n",
       "</style>\n",
       "<table border=\"1\" class=\"dataframe\">\n",
       "  <thead>\n",
       "    <tr style=\"text-align: right;\">\n",
       "      <th></th>\n",
       "      <th>id</th>\n",
       "      <th>user_id</th>\n",
       "      <th>user_name</th>\n",
       "      <th>game_id</th>\n",
       "      <th>type</th>\n",
       "      <th>title</th>\n",
       "      <th>viewer_count</th>\n",
       "      <th>started_at</th>\n",
       "      <th>language</th>\n",
       "      <th>thumbnail_url</th>\n",
       "      <th>tag_ids</th>\n",
       "    </tr>\n",
       "  </thead>\n",
       "  <tbody>\n",
       "    <tr>\n",
       "      <td>470</td>\n",
       "      <td>36437716432</td>\n",
       "      <td>58999722</td>\n",
       "      <td>snowlit</td>\n",
       "      <td>497451</td>\n",
       "      <td>live</td>\n",
       "      <td>❄️ Do I still have any shiny hunting luck? (1s...</td>\n",
       "      <td>126</td>\n",
       "      <td>2019-12-17T20:58:23Z</td>\n",
       "      <td>en</td>\n",
       "      <td>https://static-cdn.jtvnw.net/previews-ttv/live...</td>\n",
       "      <td>[6ea6bca4-4712-4ab9-a906-e3336a9d8039, d24d840...</td>\n",
       "    </tr>\n",
       "    <tr>\n",
       "      <td>471</td>\n",
       "      <td>36438868592</td>\n",
       "      <td>90699866</td>\n",
       "      <td>pokeguy</td>\n",
       "      <td>497451</td>\n",
       "      <td>live</td>\n",
       "      <td>Pokemon Shield Speedruns</td>\n",
       "      <td>104</td>\n",
       "      <td>2019-12-17T23:58:48Z</td>\n",
       "      <td>en</td>\n",
       "      <td>https://static-cdn.jtvnw.net/previews-ttv/live...</td>\n",
       "      <td>[6ea6bca4-4712-4ab9-a906-e3336a9d8039]</td>\n",
       "    </tr>\n",
       "    <tr>\n",
       "      <td>472</td>\n",
       "      <td>36439410656</td>\n",
       "      <td>108392761</td>\n",
       "      <td>JackAM</td>\n",
       "      <td>497451</td>\n",
       "      <td>live</td>\n",
       "      <td>Jack Plays Pokemon</td>\n",
       "      <td>101</td>\n",
       "      <td>2019-12-18T01:03:02Z</td>\n",
       "      <td>en</td>\n",
       "      <td>https://static-cdn.jtvnw.net/previews-ttv/live...</td>\n",
       "      <td>[6ea6bca4-4712-4ab9-a906-e3336a9d8039, 77017b7...</td>\n",
       "    </tr>\n",
       "    <tr>\n",
       "      <td>473</td>\n",
       "      <td>36439924208</td>\n",
       "      <td>127247843</td>\n",
       "      <td>Choctopus</td>\n",
       "      <td>497451</td>\n",
       "      <td>live</td>\n",
       "      <td>Viewer Raids N Battles</td>\n",
       "      <td>100</td>\n",
       "      <td>2019-12-18T02:01:13Z</td>\n",
       "      <td>en</td>\n",
       "      <td>https://static-cdn.jtvnw.net/previews-ttv/live...</td>\n",
       "      <td>[6ea6bca4-4712-4ab9-a906-e3336a9d8039, ac763b1...</td>\n",
       "    </tr>\n",
       "    <tr>\n",
       "      <td>474</td>\n",
       "      <td>36438948144</td>\n",
       "      <td>124889479</td>\n",
       "      <td>Ozzy</td>\n",
       "      <td>497451</td>\n",
       "      <td>live</td>\n",
       "      <td>✨GOT SHINY NICKIT✨Hunting Impidimp</td>\n",
       "      <td>95</td>\n",
       "      <td>2019-12-18T00:07:49Z</td>\n",
       "      <td>en</td>\n",
       "      <td>https://static-cdn.jtvnw.net/previews-ttv/live...</td>\n",
       "      <td>[8ba227ca-073c-46a7-b3cc-193e52c5ab4d, 27937ce...</td>\n",
       "    </tr>\n",
       "  </tbody>\n",
       "</table>\n",
       "</div>"
      ],
      "text/plain": [
       "              id    user_id  user_name game_id  type  \\\n",
       "470  36437716432   58999722    snowlit  497451  live   \n",
       "471  36438868592   90699866    pokeguy  497451  live   \n",
       "472  36439410656  108392761     JackAM  497451  live   \n",
       "473  36439924208  127247843  Choctopus  497451  live   \n",
       "474  36438948144  124889479       Ozzy  497451  live   \n",
       "\n",
       "                                                 title  viewer_count  \\\n",
       "470  ❄️ Do I still have any shiny hunting luck? (1s...           126   \n",
       "471                           Pokemon Shield Speedruns           104   \n",
       "472                                 Jack Plays Pokemon           101   \n",
       "473                             Viewer Raids N Battles           100   \n",
       "474                 ✨GOT SHINY NICKIT✨Hunting Impidimp            95   \n",
       "\n",
       "               started_at language  \\\n",
       "470  2019-12-17T20:58:23Z       en   \n",
       "471  2019-12-17T23:58:48Z       en   \n",
       "472  2019-12-18T01:03:02Z       en   \n",
       "473  2019-12-18T02:01:13Z       en   \n",
       "474  2019-12-18T00:07:49Z       en   \n",
       "\n",
       "                                         thumbnail_url  \\\n",
       "470  https://static-cdn.jtvnw.net/previews-ttv/live...   \n",
       "471  https://static-cdn.jtvnw.net/previews-ttv/live...   \n",
       "472  https://static-cdn.jtvnw.net/previews-ttv/live...   \n",
       "473  https://static-cdn.jtvnw.net/previews-ttv/live...   \n",
       "474  https://static-cdn.jtvnw.net/previews-ttv/live...   \n",
       "\n",
       "                                               tag_ids  \n",
       "470  [6ea6bca4-4712-4ab9-a906-e3336a9d8039, d24d840...  \n",
       "471             [6ea6bca4-4712-4ab9-a906-e3336a9d8039]  \n",
       "472  [6ea6bca4-4712-4ab9-a906-e3336a9d8039, 77017b7...  \n",
       "473  [6ea6bca4-4712-4ab9-a906-e3336a9d8039, ac763b1...  \n",
       "474  [8ba227ca-073c-46a7-b3cc-193e52c5ab4d, 27937ce...  "
      ]
     },
     "execution_count": 16,
     "metadata": {},
     "output_type": "execute_result"
    }
   ],
   "source": [
    "topstreamsforgame_df.head()"
   ]
  },
  {
   "cell_type": "code",
   "execution_count": 148,
   "metadata": {},
   "outputs": [],
   "source": [
    "export_topstreamsforgame_csv = topstreamsforgame_df.to_csv (r'/Users/kaivalya/Twitch/topstreamsforgame.csv', index = None, header=True)"
   ]
  },
  {
   "cell_type": "markdown",
   "metadata": {},
   "source": [
    "## Streamers follows"
   ]
  },
  {
   "cell_type": "markdown",
   "metadata": {},
   "source": [
    "This API call gives us information about a streamers followers and the people they followed. Tried to explore how this information could be used to describe streamer or viewer behavior."
   ]
  },
  {
   "cell_type": "code",
   "execution_count": 37,
   "metadata": {},
   "outputs": [],
   "source": [
    "headers = {\n",
    "    'Authorization' : 'Bearer '+str(access_token),\n",
    "}\n",
    "followers_response = requests.get('https://api.twitch.tv/helix/users/follows?from_id=23161357&first=100', headers=headers)\n"
   ]
  },
  {
   "cell_type": "code",
   "execution_count": null,
   "metadata": {},
   "outputs": [],
   "source": [
    "followers_response_json = json.loads(followers_response.text)\n",
    "\n",
    "followers_data = followers_response_json['data']\n",
    "followers_df = pd.DataFrame.from_dict(json_normalize(followers_data), orient='columns')\n",
    "print(followers_df)"
   ]
  },
  {
   "cell_type": "code",
   "execution_count": 39,
   "metadata": {},
   "outputs": [
    {
     "name": "stdout",
     "output_type": "stream",
     "text": [
      "eyJiIjpudWxsLCJhIjp7IkN1cnNvciI6IjEzNjQzOTk3NDY0ODc1NDkwMDAifX0\n",
      "{'cursor': 'eyJiIjpudWxsLCJhIjp7IkN1cnNvciI6IjEzNjQzOTk3NDY0ODc1NDkwMDAifX0'}\n"
     ]
    },
    {
     "data": {
      "text/plain": [
       "'eyJiIjpudWxsLCJhIjp7IkN1cnNvciI6IjEzNjQzOTk3NDY0ODc1NDkwMDAifX0'"
      ]
     },
     "execution_count": 39,
     "metadata": {},
     "output_type": "execute_result"
    }
   ],
   "source": [
    "followers_data = followers_response_json['pagination']\n",
    "followers_pagination= followers_data['cursor']\n",
    "print(followers_pagination)\n",
    "print(followers_data)\n",
    "str(followers_pagination)"
   ]
  },
  {
   "cell_type": "code",
   "execution_count": 40,
   "metadata": {},
   "outputs": [],
   "source": [
    "headers = {\n",
    "    'Authorization' : 'Bearer '+str(access_token),\n",
    "}\n",
    "followers_response = requests.get('https://api.twitch.tv/helix/users/follows?from_id=23161357&first=100&after'+str(followers_pagination), headers=headers)"
   ]
  },
  {
   "cell_type": "code",
   "execution_count": 41,
   "metadata": {},
   "outputs": [
    {
     "name": "stdout",
     "output_type": "stream",
     "text": [
      "     from_id from_name      to_id           to_name           followed_at\n",
      "0   23161357     LIRIK  117379932        KingGeorge  2019-10-02T04:06:19Z\n",
      "1   23161357     LIRIK  110690086              Myth  2019-08-28T02:53:17Z\n",
      "2   23161357     LIRIK  450512030           Porsche  2019-08-27T22:19:36Z\n",
      "3   23161357     LIRIK  254151744     adorablestars  2019-08-10T16:06:55Z\n",
      "4   23161357     LIRIK   49946840  CyberPowerGaming  2019-08-09T20:59:58Z\n",
      "5   23161357     LIRIK   71190292     Trainwreckstv  2019-07-27T02:58:30Z\n",
      "6   23161357     LIRIK   43830727     KingGothalion  2019-07-19T16:14:45Z\n",
      "7   23161357     LIRIK   21841789            Nmplol  2019-05-15T15:38:54Z\n",
      "8   23161357     LIRIK   40972890     AdmiralBahroo  2019-05-01T17:03:31Z\n",
      "9   23161357     LIRIK   36841405       MikeTheBard  2019-04-10T22:34:57Z\n",
      "10  23161357     LIRIK  163836275        Lord_Kebun  2019-04-10T02:13:36Z\n",
      "11  23161357     LIRIK   12943173         pokelawls  2019-04-06T19:52:08Z\n",
      "12  23161357     LIRIK  136765278            buddha  2019-04-03T21:16:50Z\n",
      "13  23161357     LIRIK  119415848          AnthonyZ  2019-04-03T19:44:06Z\n",
      "14  23161357     LIRIK  116888929             Ssaab  2019-04-01T20:12:12Z\n",
      "15  23161357     LIRIK   30011711       PlayStation  2019-03-25T21:01:50Z\n",
      "16  23161357     LIRIK   15310631         Greekgodx  2019-03-03T15:02:31Z\n",
      "17  23161357     LIRIK  106125347         CouRageJD  2019-02-20T02:44:21Z\n",
      "18  23161357     LIRIK   39298218           dakotaz  2019-02-06T16:04:52Z\n",
      "19  23161357     LIRIK  269099597    OurChickenLife  2019-01-23T17:46:18Z\n"
     ]
    }
   ],
   "source": [
    "followers_response_json = json.loads(followers_response.text)\n",
    "\n",
    "followers_data = followers_response_json['data']\n",
    "followers_df_temp = pd.DataFrame.from_dict(json_normalize(followers_data), orient='columns')\n",
    "print(followers_df_temp)"
   ]
  }
 ],
 "metadata": {
  "kernelspec": {
   "display_name": "Python 3",
   "language": "python",
   "name": "python3"
  },
  "language_info": {
   "codemirror_mode": {
    "name": "ipython",
    "version": 3
   },
   "file_extension": ".py",
   "mimetype": "text/x-python",
   "name": "python",
   "nbconvert_exporter": "python",
   "pygments_lexer": "ipython3",
   "version": "3.7.4"
  }
 },
 "nbformat": 4,
 "nbformat_minor": 2
}
